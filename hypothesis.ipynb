{
 "cells": [
  {
   "attachments": {},
   "cell_type": "markdown",
   "metadata": {},
   "source": [
    "# Hypothesis : \n",
    "**Students who get higher marks in maths, tends to get high marks in physics as well and vice versa.**"
   ]
  },
  {
   "attachments": {},
   "cell_type": "markdown",
   "metadata": {},
   "source": [
    "In this mini project we will calculate how one field is related with other in programming way. *#No Shortcuts* \n",
    "\n",
    "Here We have a small dataset of students with their marks. We will see what happen when we use df.corr() function in detail."
   ]
  },
  {
   "cell_type": "code",
   "execution_count": 8,
   "metadata": {},
   "outputs": [
    {
     "data": {
      "text/html": [
       "<div>\n",
       "<style scoped>\n",
       "    .dataframe tbody tr th:only-of-type {\n",
       "        vertical-align: middle;\n",
       "    }\n",
       "\n",
       "    .dataframe tbody tr th {\n",
       "        vertical-align: top;\n",
       "    }\n",
       "\n",
       "    .dataframe thead th {\n",
       "        text-align: right;\n",
       "    }\n",
       "</style>\n",
       "<table border=\"1\" class=\"dataframe\">\n",
       "  <thead>\n",
       "    <tr style=\"text-align: right;\">\n",
       "      <th></th>\n",
       "      <th>CardNo</th>\n",
       "      <th>Name</th>\n",
       "      <th>Gender</th>\n",
       "      <th>DateOfBirth</th>\n",
       "      <th>CityTown</th>\n",
       "      <th>Mathematics</th>\n",
       "      <th>Physics</th>\n",
       "      <th>Chemistry</th>\n",
       "      <th>Total</th>\n",
       "    </tr>\n",
       "  </thead>\n",
       "  <tbody>\n",
       "    <tr>\n",
       "      <th>0</th>\n",
       "      <td>0</td>\n",
       "      <td>Bhuvanesh</td>\n",
       "      <td>M</td>\n",
       "      <td>7 Nov</td>\n",
       "      <td>Erode</td>\n",
       "      <td>68</td>\n",
       "      <td>64</td>\n",
       "      <td>78</td>\n",
       "      <td>210</td>\n",
       "    </tr>\n",
       "    <tr>\n",
       "      <th>1</th>\n",
       "      <td>1</td>\n",
       "      <td>Harish</td>\n",
       "      <td>M</td>\n",
       "      <td>3 Jun</td>\n",
       "      <td>Salem</td>\n",
       "      <td>62</td>\n",
       "      <td>45</td>\n",
       "      <td>91</td>\n",
       "      <td>198</td>\n",
       "    </tr>\n",
       "    <tr>\n",
       "      <th>2</th>\n",
       "      <td>2</td>\n",
       "      <td>Shashank</td>\n",
       "      <td>M</td>\n",
       "      <td>4 Jan</td>\n",
       "      <td>Chennai</td>\n",
       "      <td>57</td>\n",
       "      <td>54</td>\n",
       "      <td>77</td>\n",
       "      <td>188</td>\n",
       "    </tr>\n",
       "    <tr>\n",
       "      <th>3</th>\n",
       "      <td>3</td>\n",
       "      <td>Rida</td>\n",
       "      <td>F</td>\n",
       "      <td>5 May</td>\n",
       "      <td>Chennai</td>\n",
       "      <td>42</td>\n",
       "      <td>53</td>\n",
       "      <td>78</td>\n",
       "      <td>173</td>\n",
       "    </tr>\n",
       "    <tr>\n",
       "      <th>4</th>\n",
       "      <td>4</td>\n",
       "      <td>Ritika</td>\n",
       "      <td>F</td>\n",
       "      <td>17 Nov</td>\n",
       "      <td>Madurai</td>\n",
       "      <td>87</td>\n",
       "      <td>64</td>\n",
       "      <td>89</td>\n",
       "      <td>240</td>\n",
       "    </tr>\n",
       "  </tbody>\n",
       "</table>\n",
       "</div>"
      ],
      "text/plain": [
       "   CardNo       Name Gender DateOfBirth CityTown  Mathematics  Physics  \\\n",
       "0       0  Bhuvanesh      M       7 Nov    Erode           68       64   \n",
       "1       1     Harish      M       3 Jun    Salem           62       45   \n",
       "2       2   Shashank      M       4 Jan  Chennai           57       54   \n",
       "3       3       Rida      F       5 May  Chennai           42       53   \n",
       "4       4     Ritika      F      17 Nov  Madurai           87       64   \n",
       "\n",
       "   Chemistry  Total  \n",
       "0         78    210  \n",
       "1         91    198  \n",
       "2         77    188  \n",
       "3         78    173  \n",
       "4         89    240  "
      ]
     },
     "execution_count": 8,
     "metadata": {},
     "output_type": "execute_result"
    }
   ],
   "source": [
    "import pandas as pd \n",
    "df = pd.read_csv(\"/Users/kartikgaur/IIT-M/CT/Datasets/Scores.csv\")\n",
    "df.head()"
   ]
  },
  {
   "attachments": {},
   "cell_type": "markdown",
   "metadata": {},
   "source": [
    "using corr function below to find the correlation between fields #shortcut"
   ]
  },
  {
   "cell_type": "code",
   "execution_count": 9,
   "metadata": {},
   "outputs": [
    {
     "data": {
      "text/html": [
       "<div>\n",
       "<style scoped>\n",
       "    .dataframe tbody tr th:only-of-type {\n",
       "        vertical-align: middle;\n",
       "    }\n",
       "\n",
       "    .dataframe tbody tr th {\n",
       "        vertical-align: top;\n",
       "    }\n",
       "\n",
       "    .dataframe thead th {\n",
       "        text-align: right;\n",
       "    }\n",
       "</style>\n",
       "<table border=\"1\" class=\"dataframe\">\n",
       "  <thead>\n",
       "    <tr style=\"text-align: right;\">\n",
       "      <th></th>\n",
       "      <th>CardNo</th>\n",
       "      <th>Mathematics</th>\n",
       "      <th>Physics</th>\n",
       "      <th>Chemistry</th>\n",
       "      <th>Total</th>\n",
       "    </tr>\n",
       "  </thead>\n",
       "  <tbody>\n",
       "    <tr>\n",
       "      <th>CardNo</th>\n",
       "      <td>1.000000</td>\n",
       "      <td>0.194908</td>\n",
       "      <td>0.244810</td>\n",
       "      <td>-0.142274</td>\n",
       "      <td>0.134021</td>\n",
       "    </tr>\n",
       "    <tr>\n",
       "      <th>Mathematics</th>\n",
       "      <td>0.194908</td>\n",
       "      <td>1.000000</td>\n",
       "      <td>0.400951</td>\n",
       "      <td>0.331216</td>\n",
       "      <td>0.828598</td>\n",
       "    </tr>\n",
       "    <tr>\n",
       "      <th>Physics</th>\n",
       "      <td>0.244810</td>\n",
       "      <td>0.400951</td>\n",
       "      <td>1.000000</td>\n",
       "      <td>-0.006451</td>\n",
       "      <td>0.633122</td>\n",
       "    </tr>\n",
       "    <tr>\n",
       "      <th>Chemistry</th>\n",
       "      <td>-0.142274</td>\n",
       "      <td>0.331216</td>\n",
       "      <td>-0.006451</td>\n",
       "      <td>1.000000</td>\n",
       "      <td>0.646711</td>\n",
       "    </tr>\n",
       "    <tr>\n",
       "      <th>Total</th>\n",
       "      <td>0.134021</td>\n",
       "      <td>0.828598</td>\n",
       "      <td>0.633122</td>\n",
       "      <td>0.646711</td>\n",
       "      <td>1.000000</td>\n",
       "    </tr>\n",
       "  </tbody>\n",
       "</table>\n",
       "</div>"
      ],
      "text/plain": [
       "               CardNo  Mathematics   Physics  Chemistry     Total\n",
       "CardNo       1.000000     0.194908  0.244810  -0.142274  0.134021\n",
       "Mathematics  0.194908     1.000000  0.400951   0.331216  0.828598\n",
       "Physics      0.244810     0.400951  1.000000  -0.006451  0.633122\n",
       "Chemistry   -0.142274     0.331216 -0.006451   1.000000  0.646711\n",
       "Total        0.134021     0.828598  0.633122   0.646711  1.000000"
      ]
     },
     "execution_count": 9,
     "metadata": {},
     "output_type": "execute_result"
    }
   ],
   "source": [
    "df.corr()"
   ]
  },
  {
   "attachments": {},
   "cell_type": "markdown",
   "metadata": {},
   "source": [
    "Below I am trying to check wheather gender plays any role with maths or physics marks. "
   ]
  },
  {
   "cell_type": "code",
   "execution_count": 15,
   "metadata": {},
   "outputs": [
    {
     "data": {
      "text/html": [
       "<div>\n",
       "<style scoped>\n",
       "    .dataframe tbody tr th:only-of-type {\n",
       "        vertical-align: middle;\n",
       "    }\n",
       "\n",
       "    .dataframe tbody tr th {\n",
       "        vertical-align: top;\n",
       "    }\n",
       "\n",
       "    .dataframe thead th {\n",
       "        text-align: right;\n",
       "    }\n",
       "</style>\n",
       "<table border=\"1\" class=\"dataframe\">\n",
       "  <thead>\n",
       "    <tr style=\"text-align: right;\">\n",
       "      <th></th>\n",
       "      <th>CardNo</th>\n",
       "      <th>Mathematics</th>\n",
       "      <th>Physics</th>\n",
       "      <th>Chemistry</th>\n",
       "      <th>Total</th>\n",
       "      <th>Gender_encode</th>\n",
       "    </tr>\n",
       "  </thead>\n",
       "  <tbody>\n",
       "    <tr>\n",
       "      <th>CardNo</th>\n",
       "      <td>1.000000</td>\n",
       "      <td>0.194908</td>\n",
       "      <td>0.244810</td>\n",
       "      <td>-0.142274</td>\n",
       "      <td>0.134021</td>\n",
       "      <td>-0.089374</td>\n",
       "    </tr>\n",
       "    <tr>\n",
       "      <th>Mathematics</th>\n",
       "      <td>0.194908</td>\n",
       "      <td>1.000000</td>\n",
       "      <td>0.400951</td>\n",
       "      <td>0.331216</td>\n",
       "      <td>0.828598</td>\n",
       "      <td>-0.048286</td>\n",
       "    </tr>\n",
       "    <tr>\n",
       "      <th>Physics</th>\n",
       "      <td>0.244810</td>\n",
       "      <td>0.400951</td>\n",
       "      <td>1.000000</td>\n",
       "      <td>-0.006451</td>\n",
       "      <td>0.633122</td>\n",
       "      <td>0.061024</td>\n",
       "    </tr>\n",
       "    <tr>\n",
       "      <th>Chemistry</th>\n",
       "      <td>-0.142274</td>\n",
       "      <td>0.331216</td>\n",
       "      <td>-0.006451</td>\n",
       "      <td>1.000000</td>\n",
       "      <td>0.646711</td>\n",
       "      <td>-0.291672</td>\n",
       "    </tr>\n",
       "    <tr>\n",
       "      <th>Total</th>\n",
       "      <td>0.134021</td>\n",
       "      <td>0.828598</td>\n",
       "      <td>0.633122</td>\n",
       "      <td>0.646711</td>\n",
       "      <td>1.000000</td>\n",
       "      <td>-0.138910</td>\n",
       "    </tr>\n",
       "    <tr>\n",
       "      <th>Gender_encode</th>\n",
       "      <td>-0.089374</td>\n",
       "      <td>-0.048286</td>\n",
       "      <td>0.061024</td>\n",
       "      <td>-0.291672</td>\n",
       "      <td>-0.138910</td>\n",
       "      <td>1.000000</td>\n",
       "    </tr>\n",
       "  </tbody>\n",
       "</table>\n",
       "</div>"
      ],
      "text/plain": [
       "                 CardNo  Mathematics   Physics  Chemistry     Total  \\\n",
       "CardNo         1.000000     0.194908  0.244810  -0.142274  0.134021   \n",
       "Mathematics    0.194908     1.000000  0.400951   0.331216  0.828598   \n",
       "Physics        0.244810     0.400951  1.000000  -0.006451  0.633122   \n",
       "Chemistry     -0.142274     0.331216 -0.006451   1.000000  0.646711   \n",
       "Total          0.134021     0.828598  0.633122   0.646711  1.000000   \n",
       "Gender_encode -0.089374    -0.048286  0.061024  -0.291672 -0.138910   \n",
       "\n",
       "               Gender_encode  \n",
       "CardNo             -0.089374  \n",
       "Mathematics        -0.048286  \n",
       "Physics             0.061024  \n",
       "Chemistry          -0.291672  \n",
       "Total              -0.138910  \n",
       "Gender_encode       1.000000  "
      ]
     },
     "execution_count": 15,
     "metadata": {},
     "output_type": "execute_result"
    }
   ],
   "source": [
    "df['Gender_encode'] = df['Gender'].apply(lambda x:1 if x=='M' else 0)\n",
    "df.corr()"
   ]
  },
  {
   "attachments": {},
   "cell_type": "markdown",
   "metadata": {},
   "source": [
    "all values here less than 0.50 , which supports the fact that gender of a human does not impact their marks #Stop_Gender_Descrimination 💯"
   ]
  },
  {
   "attachments": {},
   "cell_type": "markdown",
   "metadata": {},
   "source": [
    "   "
   ]
  },
  {
   "attachments": {},
   "cell_type": "markdown",
   "metadata": {},
   "source": [
    "Below I have created two list with studentID/CardNo with their respective marks in physics and maths. Also I have sorted them as per the marks in descending order."
   ]
  },
  {
   "cell_type": "code",
   "execution_count": 25,
   "metadata": {},
   "outputs": [
    {
     "data": {
      "text/plain": [
       "[[5, 92],\n",
       " [7, 92],\n",
       " [11, 92],\n",
       " [18, 92],\n",
       " [23, 91],\n",
       " [9, 88],\n",
       " [16, 86],\n",
       " [28, 83],\n",
       " [6, 82],\n",
       " [17, 81],\n",
       " [19, 78],\n",
       " [27, 76],\n",
       " [25, 75],\n",
       " [13, 73],\n",
       " [10, 72],\n",
       " [24, 72],\n",
       " [26, 71],\n",
       " [21, 69],\n",
       " [20, 68],\n",
       " [29, 66],\n",
       " [0, 64],\n",
       " [4, 64],\n",
       " [8, 64],\n",
       " [12, 64],\n",
       " [14, 62],\n",
       " [22, 62],\n",
       " [15, 58],\n",
       " [2, 54],\n",
       " [3, 53],\n",
       " [1, 45]]"
      ]
     },
     "execution_count": 25,
     "metadata": {},
     "output_type": "execute_result"
    }
   ],
   "source": [
    "phy_list = df[['CardNo','Physics']].values.tolist()\n",
    "physics_list = sorted(phy_list,key=lambda x:x[1],reverse=True)\n",
    "\n",
    "math_list = df[['CardNo','Mathematics']].values.tolist()\n",
    "new_math_list = sorted(math_list,key=lambda x:x[1],reverse=True)\n"
   ]
  },
  {
   "attachments": {},
   "cell_type": "markdown",
   "metadata": {},
   "source": [
    "Below is a function that will take a list and divide that list into 4 parts. (as we have already sorted our maths and physics marks list)"
   ]
  },
  {
   "cell_type": "code",
   "execution_count": 35,
   "metadata": {},
   "outputs": [],
   "source": [
    "\n",
    "def simpleGradeAssignment(l):\n",
    "    q4 = len(l)/4\n",
    "    q3 = len(l)/2\n",
    "    q2 = 3*len(l)/4\n",
    "    gradeA=[]\n",
    "    gradeB=[]\n",
    "    gradeC=[]\n",
    "    gradeD=[]\n",
    "    position = 0\n",
    "    for x in l:\n",
    "        if position > q2:\n",
    "            gradeA.append(x[0])\n",
    "        if position < q2 and position > q3:\n",
    "            gradeB.append(x[0])\n",
    "        if position < q3 and position > q4:\n",
    "            gradeC.append(x[0])\n",
    "        if position < q4:\n",
    "            gradeD.append(x[0])\n",
    "        \n",
    "        position+=1\n",
    "    return [gradeA,gradeB,gradeC,gradeD]\n",
    "\n",
    "\n",
    "math = simpleGradeAssignment(new_math_list)\n",
    "physics = simpleGradeAssignment(physics_list)"
   ]
  },
  {
   "attachments": {},
   "cell_type": "markdown",
   "metadata": {},
   "source": [
    "Below I have created another function that will test the hypothesis and return the value. "
   ]
  },
  {
   "cell_type": "code",
   "execution_count": 38,
   "metadata": {},
   "outputs": [
    {
     "data": {
      "text/plain": [
       "0.41379310344827586"
      ]
     },
     "execution_count": 38,
     "metadata": {},
     "output_type": "execute_result"
    }
   ],
   "source": [
    "def hypothesis_test(A,B):\n",
    "    confirm = 0\n",
    "    reject = 0\n",
    "    limit = 0 \n",
    "    for limit in range(0,4):\n",
    "        for x in A[limit]:\n",
    "            if x in B[limit]:\n",
    "                confirm+=1\n",
    "            else:\n",
    "                reject+=1\n",
    "    \n",
    "    return confirm / (confirm+reject) \n",
    "\n",
    "hypothesis_test(math,physics)\n",
    "    \n",
    "            \n",
    "            \n",
    "    "
   ]
  },
  {
   "attachments": {},
   "cell_type": "markdown",
   "metadata": {},
   "source": [
    "If Value is less than 0.50 that means both the field are not related and there are random chances that if a student got good marks in maths then he will get good marks in physics. \n",
    "\n",
    "But if value would have been near to 0.80 than we could support our hypothesis here.\n",
    "\n",
    "***Hence for Present Data We can reject the Hypothesis!!***"
   ]
  },
  {
   "cell_type": "markdown",
   "metadata": {},
   "source": []
  }
 ],
 "metadata": {
  "kernelspec": {
   "display_name": "base",
   "language": "python",
   "name": "python3"
  },
  "language_info": {
   "codemirror_mode": {
    "name": "ipython",
    "version": 3
   },
   "file_extension": ".py",
   "mimetype": "text/x-python",
   "name": "python",
   "nbconvert_exporter": "python",
   "pygments_lexer": "ipython3",
   "version": "3.9.6"
  },
  "orig_nbformat": 4
 },
 "nbformat": 4,
 "nbformat_minor": 2
}
